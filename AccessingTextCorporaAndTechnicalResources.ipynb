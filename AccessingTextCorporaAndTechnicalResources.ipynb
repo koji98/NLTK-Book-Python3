{
 "cells": [
  {
   "cell_type": "markdown",
   "metadata": {},
   "source": [
    "# 2.) Accessing Text Corpora and Lexical Resources"
   ]
  },
  {
   "cell_type": "markdown",
   "metadata": {},
   "source": [
    "## Chapter Notes"
   ]
  },
  {
   "cell_type": "markdown",
   "metadata": {},
   "source": [
    "- **Corpora** - A large body of linguistic data.\n",
    "- A **conditional frequency distribution** is a collection of frequency distributions, each one for a different \"condition\".\n",
    "- **Bigram** - Word pair.\n",
    "- A **lexicon**, or **lexical resource**, is a collection of words and/or phrases along with associated information such as part of speech and sense definitions.\n",
    "- A **lexical entry** consists of a **headword** (also known as a **lemma**) along with additional information such as the part of speech and the sense definition.\n",
    "- Two distinct words having the same spelling are called **homonyms**.\n",
    "- **Stopwords** are high-frequency words like *the*, *to* and *also* that we sometimes want to filter out of a document before further processing. Stopwords usually have little lexical content, and their presence in a text fails to distinguish it from other texts.\n",
    "- **WordNe**t is a semantically-oriented dictionary of English, similar to a traditional thesaurus but with a richer structure.\n",
    "- **Synonyms** - Words with the same or similar meaning.\n",
    "- **Synset**, or \"synonym set\", a collection of synonymous words (or \"lemmas\").\n",
    "- **Semantics** is the branch of linguistics and logic concerned with meaning.\n",
    "- In *semantics*, a **meronym** is a word that denotes a constituent part or a member of something. For example, *apple* is a meronym of *apple tree* (sometimes written as apple<apple tree).\n",
    "- The opposite of a *meronym* is a **holonym** — the name of the whole of which the *meronym* is a part. *Appletree* is a holonym of apple (apple tree>apple)."
   ]
  },
  {
   "cell_type": "markdown",
   "metadata": {},
   "source": [
    "## Excercises"
   ]
  },
  {
   "cell_type": "markdown",
   "metadata": {},
   "source": [
    "### Installing/Importing NLTK"
   ]
  },
  {
   "cell_type": "code",
   "execution_count": 10,
   "metadata": {},
   "outputs": [
    {
     "name": "stdout",
     "output_type": "stream",
     "text": [
      "Requirement already satisfied: nltk in /Library/Frameworks/Python.framework/Versions/3.9/lib/python3.9/site-packages (3.5)\n",
      "Requirement already satisfied: click in /Library/Frameworks/Python.framework/Versions/3.9/lib/python3.9/site-packages (from nltk) (7.1.2)\n",
      "Requirement already satisfied: joblib in /Library/Frameworks/Python.framework/Versions/3.9/lib/python3.9/site-packages (from nltk) (0.17.0)\n",
      "Requirement already satisfied: regex in /Library/Frameworks/Python.framework/Versions/3.9/lib/python3.9/site-packages (from nltk) (2020.10.28)\n",
      "Requirement already satisfied: tqdm in /Library/Frameworks/Python.framework/Versions/3.9/lib/python3.9/site-packages (from nltk) (4.51.0)\n",
      "Note: you may need to restart the kernel to use updated packages.\n",
      "Requirement already satisfied: matplotlib in /Library/Frameworks/Python.framework/Versions/3.9/lib/python3.9/site-packages (3.3.2)\n",
      "Requirement already satisfied: certifi>=2020.06.20 in /Library/Frameworks/Python.framework/Versions/3.9/lib/python3.9/site-packages (from matplotlib) (2020.6.20)\n",
      "Requirement already satisfied: cycler>=0.10 in /Library/Frameworks/Python.framework/Versions/3.9/lib/python3.9/site-packages (from matplotlib) (0.10.0)\n",
      "Requirement already satisfied: kiwisolver>=1.0.1 in /Library/Frameworks/Python.framework/Versions/3.9/lib/python3.9/site-packages (from matplotlib) (1.3.1)\n",
      "Requirement already satisfied: numpy>=1.15 in /Library/Frameworks/Python.framework/Versions/3.9/lib/python3.9/site-packages (from matplotlib) (1.19.4)\n",
      "Requirement already satisfied: pillow>=6.2.0 in /Library/Frameworks/Python.framework/Versions/3.9/lib/python3.9/site-packages (from matplotlib) (8.0.1)\n",
      "Requirement already satisfied: pyparsing!=2.0.4,!=2.1.2,!=2.1.6,>=2.0.3 in /Library/Frameworks/Python.framework/Versions/3.9/lib/python3.9/site-packages (from matplotlib) (2.4.7)\n",
      "Requirement already satisfied: python-dateutil>=2.1 in /Library/Frameworks/Python.framework/Versions/3.9/lib/python3.9/site-packages (from matplotlib) (2.8.1)\n",
      "Requirement already satisfied: six in /Library/Frameworks/Python.framework/Versions/3.9/lib/python3.9/site-packages (from cycler>=0.10->matplotlib) (1.15.0)\n",
      "Note: you may need to restart the kernel to use updated packages.\n"
     ]
    }
   ],
   "source": [
    "%pip install nltk\n",
    "%pip install matplotlib"
   ]
  },
  {
   "cell_type": "code",
   "execution_count": 11,
   "metadata": {},
   "outputs": [],
   "source": [
    "# If this does not work for you due to a SSL error, here is a good reference: \n",
    "# https://stackoverflow.com/questions/41348621/ssl-error-downloading-nltk-data\n",
    "# I used this suggestion: \n",
    "# \"In Finder, search for Python 3.6. It will appear under Application folder. \n",
    "# Expand the Python 3.6 folder. Then install certificates using \"Install Certificates.command\".\"\n",
    "import nltk\n",
    "# Uncomment if you have not already downloaded NLTK\n",
    "# nltk.download() "
   ]
  },
  {
   "cell_type": "markdown",
   "metadata": {},
   "source": [
    "### 1.) ☼ Create a variable ```phrase``` containing a list of words. Review the operations described in the previous chapter, including addition, multiplication, indexing, slicing, and sorting."
   ]
  },
  {
   "cell_type": "code",
   "execution_count": 12,
   "metadata": {},
   "outputs": [
    {
     "name": "stdout",
     "output_type": "stream",
     "text": [
      "['My', 'name', 'is', 'Chidi', 'My', 'name', 'is', 'Chidi']\n",
      "['My', 'name', 'is', 'Chidi', '!']\n",
      "['Chidi']\n",
      "['Chidi', 'My', 'is', 'name']\n"
     ]
    }
   ],
   "source": [
    "phrase = [\"My\", \"name\", \"is\", \"Chidi\"]\n",
    "print(phrase * 2)\n",
    "print(phrase + [\"!\"])\n",
    "print(phrase[-1:])\n",
    "print(sorted(phrase))"
   ]
  },
  {
   "cell_type": "markdown",
   "metadata": {},
   "source": [
    "### 2.) ☼ Use the corpus module to explore ```austen-persuasion.txt```. How many word tokens does this book have? How many word types?"
   ]
  },
  {
   "cell_type": "code",
   "execution_count": 15,
   "metadata": {},
   "outputs": [
    {
     "name": "stdout",
     "output_type": "stream",
     "text": [
      "There are 84167 word tokens and 6074 word types in austen-peruasion.txt\n"
     ]
    }
   ],
   "source": [
    "p = ' '.join(nltk.corpus.gutenberg.words('austen-persuasion.txt'))\n",
    "tokenizer = nltk.tokenize.RegexpTokenizer(r'\\w+')\n",
    "tokens = tokenizer.tokenize(p)\n",
    "num_tokens = len(tokens)\n",
    "num_word_types = len(set(tokens))\n",
    "print(\"There are \" + str(num_tokens) + \" word tokens and \" + str(num_word_types) + \" word types in austen-peruasion.txt\")"
   ]
  },
  {
   "cell_type": "markdown",
   "metadata": {},
   "source": [
    "### 3.) ☼ Use the Brown corpus reader ```nltk.corpus.brown.words()``` or the Web text corpus reader ```nltk.corpus.webtext.words()``` to access some sample text in two different genres."
   ]
  },
  {
   "cell_type": "code",
   "execution_count": 23,
   "metadata": {},
   "outputs": [
    {
     "name": "stdout",
     "output_type": "stream",
     "text": [
      "['They', 'neither', 'liked', 'nor', 'disliked', 'the', ...]\n",
      "['Assembly', 'session', 'brought', 'much', 'good', ...]\n"
     ]
    }
   ],
   "source": [
    "print(nltk.corpus.brown.words(categories=\"romance\"))\n",
    "print(nltk.corpus.brown.words(categories=\"editorial\"))"
   ]
  },
  {
   "cell_type": "markdown",
   "metadata": {},
   "source": [
    "### 4.) ☼ Read in the texts of the *State of the Union* addresses, using the ```state_union``` corpus reader. Count occurrences of ```men```, ```women```, and ```people``` in each document. What has happened to the usage of these words over time?"
   ]
  },
  {
   "cell_type": "code",
   "execution_count": 38,
   "metadata": {},
   "outputs": [
    {
     "data": {
      "image/png": "[encoded data removed]",
      "text/plain": [
       "<Figure size 432x288 with 1 Axes>"
      ]
     },
     "metadata": {
      "needs_background": "light"
     },
     "output_type": "display_data"
    },
    {
     "name": "stdout",
     "output_type": "stream",
     "text": [
      "\n",
      "Over time we see wild fluctions of the people, but doubling from beginning to end. We also see that \n",
      "men are reerences more throughout the state union earlier, but even out with women by the end.\n",
      "\n"
     ]
    }
   ],
   "source": [
    "from nltk.corpus import state_union\n",
    "cfd = nltk.ConditionalFreqDist(\n",
    "    (target, fileid[:4])\n",
    "    for fileid in state_union.fileids()\n",
    "    for w in state_union.words(fileid)\n",
    "    for target in ['men', 'women', 'people']\n",
    "    if w.lower().startswith(target))\n",
    "cfd.plot()\n",
    "print('''\n",
    "Over time we see wild fluctions of the people, but doubling from beginning to end. We also see that \n",
    "men are reerences more throughout the state union earlier, but even out with women by the end.\n",
    "''')"
   ]
  },
  {
   "cell_type": "markdown",
   "metadata": {},
   "source": [
    "### 5.) ☼ Investigate the holonym-meronym relations for some nouns. Remember that there are three kinds of holonym-meronym relation, so you need to use: ```member_meronyms()```, ```part_meronyms()```, ```substance_meronyms()```, ```member_holonyms()```, ```part_holonyms()```, and ```substance_holonyms()```."
   ]
  },
  {
   "cell_type": "code",
   "execution_count": 50,
   "metadata": {},
   "outputs": [
    {
     "name": "stdout",
     "output_type": "stream",
     "text": [
      "[]\n",
      "[Synset('forest.n.01')]\n",
      "\n",
      "[Synset('burl.n.02'), Synset('crown.n.07'), Synset('limb.n.02'), Synset('stump.n.01'), Synset('trunk.n.01')]\n",
      "[]\n",
      "\n",
      "[Synset('heartwood.n.01'), Synset('sapwood.n.01')]\n",
      "[]\n"
     ]
    }
   ],
   "source": [
    "from nltk.corpus import wordnet as wn\n",
    "\n",
    "print(wn.synset('tree.n.01').member_meronyms())\n",
    "print(wn.synset('tree.n.01').member_holonyms())\n",
    "print()\n",
    "print(wn.synset('tree.n.01').part_meronyms())\n",
    "print(wn.synset('tree.n.01').part_holonyms())\n",
    "print()\n",
    "print(wn.synset('tree.n.01').substance_meronyms())\n",
    "print(wn.synset('tree.n.01').substance_holonyms())"
   ]
  },
  {
   "cell_type": "markdown",
   "metadata": {},
   "source": [
    "### 6.) ☼ In the discussion of comparative wordlists, we created an object called ```translate``` which you could look up using words in both German and Spanish in order to get corresponding words in English. What problem might arise with this approach? Can you suggest a way to avoid this problem?"
   ]
  },
  {
   "cell_type": "code",
   "execution_count": 51,
   "metadata": {},
   "outputs": [
    {
     "name": "stdout",
     "output_type": "stream",
     "text": [
      "\n",
      "Words can have different meanings depending on its context, and this does not take that into account.\n",
      "\n"
     ]
    }
   ],
   "source": [
    "print('''\n",
    "Words can have different meanings depending on its context, and this does not take that into account.\n",
    "''')"
   ]
  },
  {
   "cell_type": "code",
   "execution_count": null,
   "metadata": {},
   "outputs": [],
   "source": []
  }
 ],
 "metadata": {
  "kernelspec": {
   "display_name": "Python 3",
   "language": "python",
   "name": "python3"
  },
  "language_info": {
   "codemirror_mode": {
    "name": "ipython",
    "version": 3
   },
   "file_extension": ".py",
   "mimetype": "text/x-python",
   "name": "python",
   "nbconvert_exporter": "python",
   "pygments_lexer": "ipython3",
   "version": "3.9.0"
  }
 },
 "nbformat": 4,
 "nbformat_minor": 4
}
